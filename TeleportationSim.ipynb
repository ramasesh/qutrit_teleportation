{
 "cells": [
  {
   "cell_type": "code",
   "execution_count": 1,
   "metadata": {},
   "outputs": [],
   "source": [
    "import numpy as np\n",
    "import scipy as sp\n",
    "import scipy.linalg as spla\n",
    "import scipy.sparse as sps\n",
    "import math\n",
    "from importlib import reload\n",
    "from functools import reduce\n",
    "\n",
    "#Load various data and functions\n",
    "import fundamental_gates #Useful single qutrit gates\n",
    "import interaction_and_decay #parameters - change dephasing rates in here\n",
    "import embed_functions #functions to embed 1/2-qutrit objects into many-qutrit operators\n",
    "import gate_sequences #gate sequences for various gates we've discussed - ZZ4 gate sequence is the one actually used in expt\n",
    "import evolution #functions to calculate evolution of initial state under gate sequence\n",
    "import teleport\n",
    "\n",
    "import state_prep\n",
    "import sim_tools"
   ]
  },
  {
   "cell_type": "code",
   "execution_count": 2,
   "metadata": {},
   "outputs": [],
   "source": [
    "rho_EPR_07 = state_prep.rho_EPR_07_expt\n",
    "rho_EPR_56 = state_prep.rho_EPR_56_expt\n",
    "F_EPR_meas = 0.92\n",
    "decoh = True\n",
    "dephas = True"
   ]
  },
  {
   "cell_type": "code",
   "execution_count": 3,
   "metadata": {},
   "outputs": [
    {
     "name": "stdout",
     "output_type": "stream",
     "text": [
      "ZZ4 Teleportation protocol fidelities: \n",
      "\n",
      "P_psi = [0.123, 0.106, 0.104, 0.113, 0.112, 0.108, 0.109, 0.114, 0.111, 0.106, 0.109, 0.119]\n",
      "F_psi = [0.707, 0.646, 0.622, 0.593, 0.591, 0.537, 0.524, 0.606, 0.554, 0.522, 0.56, 0.618]\n",
      "<P> = 0.11109976742692462\n",
      "<F> = 0.5901643399342041\n",
      "<FP>/<P> = 0.5915573834586867\n",
      "\n",
      "\n"
     ]
    }
   ],
   "source": [
    "#Perform protocol for each state in the two-design states\n",
    "Probabilities = []\n",
    "Fidelities = []\n",
    "print(\"ZZ4 Teleportation protocol fidelities: \\n\")\n",
    "for ind, state in enumerate(state_prep.two_design_states):\n",
    "    P_psi, F_psi = teleport.getPandF(gate_sequences.EF_scrambler_gatelist,\n",
    "                            state,\n",
    "                            rho_EPR_07,\n",
    "                            rho_EPR_56,\n",
    "                            F_EPR_meas,\n",
    "                            decoh=decoh,\n",
    "                            dephas=dephas)\n",
    "    Probabilities.append(P_psi.real)\n",
    "    Fidelities.append(F_psi.real)\n",
    "    \n",
    "teleport.print_report(Probabilities, Fidelities)"
   ]
  },
  {
   "cell_type": "markdown",
   "metadata": {},
   "source": [
    "Perfect EPR prep, no decoherence or dephasing, perfect EPR measurement: 100%\n",
    "\n",
    "Perfect EPR prep on Q5Q6, Imperfect EPR prep on Q0Q7, no decoherence or dephasing, perfect EPR measurement: 88%\n",
    "\n",
    "Imperfect EPR prep on Q5Q6, Perfect EPR prep on Q0Q7, no decoherence or dephasing, perfect EPR measurement: 86%\n",
    "\n",
    "Perfect EPR prep, no decoherence or dephasing, imperfect EPR measurement: 94%\n",
    "\n",
    "Perfect EPR prep, with decoherence and dephasing, perfect EPR measurement: 81%\n",
    "\n",
    "All sources of error: 62%\n",
    "\n",
    "Multiply all single-error budgets: 57%\n",
    "\n",
    "Everything bad except EPR measurement is perfect: 64%\n",
    "\n",
    "Everything bad except EPR 07 preparation is perfect: 68%\n",
    "\n",
    "Everything bad except EPR 56 preparation is perfect: 69%\n",
    "\n",
    "Everything bad except no decoherence or dephasing: 73%\n",
    "\n",
    "So it does seem like decoherence is our worst enemy right now, which sucks because that's the one thing we can't really change.  "
   ]
  },
  {
   "cell_type": "code",
   "execution_count": null,
   "metadata": {},
   "outputs": [],
   "source": []
  }
 ],
 "metadata": {
  "kernelspec": {
   "display_name": "Python 3",
   "language": "python",
   "name": "python3"
  },
  "language_info": {
   "codemirror_mode": {
    "name": "ipython",
    "version": 3
   },
   "file_extension": ".py",
   "mimetype": "text/x-python",
   "name": "python",
   "nbconvert_exporter": "python",
   "pygments_lexer": "ipython3",
   "version": "3.6.7"
  }
 },
 "nbformat": 4,
 "nbformat_minor": 2
}
